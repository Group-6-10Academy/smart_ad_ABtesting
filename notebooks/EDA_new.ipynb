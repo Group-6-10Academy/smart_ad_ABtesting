{
 "cells": [
  {
   "cell_type": "markdown",
   "metadata": {},
   "source": [
    "## Exploratory data analysis (EDA)\n",
    "Exploratory Data Analysis or EDA is used to take insights from the data. Data Scientists and Analysts try to find different patterns, relations, and anomalies in the data using some statistical graphs and other visualization techniques. And there are four types EDA, these are univariate non-graphical, multivariate non- graphical, univariate graphical, and multivariate graphical."
   ]
  },
  {
   "cell_type": "code",
   "execution_count": 9,
   "metadata": {},
   "outputs": [],
   "source": [
    "# importing libraries\n",
    "import pandas as pd\n",
    "import seaborn as sb\n",
    "import matplotlib.pyplot as plt\n",
    "import numpy as np\n",
    "%matplotlib inline\n",
    "import seaborn as sns\n",
    "from datetime import datetime, time"
   ]
  },
  {
   "cell_type": "markdown",
   "metadata": {},
   "source": [
    "#### Importing scripts"
   ]
  },
  {
   "cell_type": "code",
   "execution_count": 10,
   "metadata": {},
   "outputs": [],
   "source": [
    "import os\n",
    "import sys\n",
    "sys.path.append(os.path.abspath(os.path.join('../scripts')))"
   ]
  },
  {
   "cell_type": "markdown",
   "metadata": {},
   "source": [
    "#### Custom library"
   ]
  },
  {
   "cell_type": "code",
   "execution_count": 11,
   "metadata": {},
   "outputs": [],
   "source": [
    "from PlottingFunctions import PlottingFunctions\n",
    "from VisualisationPlots import VisualiseDf\n",
    "from DistributionPlots import  DistributionPlots\n",
    "from data_info import  DataInfo\n",
    "#sns.set()"
   ]
  },
  {
   "cell_type": "code",
   "execution_count": 12,
   "metadata": {},
   "outputs": [
    {
     "name": "stdout",
     "output_type": "stream",
     "text": [
      "../data/.gitignore\n",
      "../data/ABtwoCampaignEngView.csv\n",
      "../data/AdSmartABdata.csv.dvc\n",
      "../data/browser_encoded.jpg\n",
      "../data/clean_AdSmartABdata.csv.dvc\n",
      "../data/platformEncV1.jpg\n",
      "../data/push_v1.jpg\n"
     ]
    }
   ],
   "source": [
    "for dirname, _, filenames in os.walk('../data/'):\n",
    "    for filename in filenames:\n",
    "        print(os.path.join(dirname, filename))"
   ]
  },
  {
   "cell_type": "markdown",
   "metadata": {},
   "source": [
    "#### Loading data"
   ]
  },
  {
   "cell_type": "code",
   "execution_count": 13,
   "metadata": {},
   "outputs": [],
   "source": [
    "# parser function to try parse the tweets from the weird format they're in. doesn't work though\n",
    "\n",
    "# def parser(x): \n",
    "#     try:                                                                                                        \n",
    "#         return datetime.strptime(x, '%Y-%m-%d')\n",
    "#     except ValueError:\n",
    "#         return np.nan\n",
    "\n",
    "# df_ads = pd.read_csv(\"../data/ABtwoCampaignEngView.csv\", parse_dates=[3], infer_datetime_format=True, date_parser=parser)"
   ]
  },
  {
   "cell_type": "code",
   "execution_count": 14,
   "metadata": {},
   "outputs": [],
   "source": [
    "df_ads = pd.read_csv(\"../data/ABtwoCampaignEngView.csv\")"
   ]
  },
  {
   "cell_type": "code",
   "execution_count": 15,
   "metadata": {},
   "outputs": [
    {
     "data": {
      "text/html": [
       "<div>\n",
       "<style scoped>\n",
       "    .dataframe tbody tr th:only-of-type {\n",
       "        vertical-align: middle;\n",
       "    }\n",
       "\n",
       "    .dataframe tbody tr th {\n",
       "        vertical-align: top;\n",
       "    }\n",
       "\n",
       "    .dataframe thead th {\n",
       "        text-align: right;\n",
       "    }\n",
       "</style>\n",
       "<table border=\"1\" class=\"dataframe\">\n",
       "  <thead>\n",
       "    <tr style=\"text-align: right;\">\n",
       "      <th></th>\n",
       "      <th>Unnamed: 0</th>\n",
       "      <th>auction_id</th>\n",
       "      <th>experiment</th>\n",
       "      <th>date</th>\n",
       "      <th>hour</th>\n",
       "      <th>device_make</th>\n",
       "      <th>platform_os</th>\n",
       "      <th>browser</th>\n",
       "      <th>yes</th>\n",
       "      <th>no</th>\n",
       "    </tr>\n",
       "  </thead>\n",
       "  <tbody>\n",
       "    <tr>\n",
       "      <th>0</th>\n",
       "      <td>1333639</td>\n",
       "      <td>8ec30aff-2332-4a1f-9330-b93abb32bc94</td>\n",
       "      <td>control</td>\n",
       "      <td>&lt;built-in method date of Timestamp object at 0...</td>\n",
       "      <td>15</td>\n",
       "      <td>LG</td>\n",
       "      <td>156</td>\n",
       "      <td>6</td>\n",
       "      <td>0</td>\n",
       "      <td>0</td>\n",
       "    </tr>\n",
       "    <tr>\n",
       "      <th>1</th>\n",
       "      <td>730667</td>\n",
       "      <td>4e1bcb56-357c-4186-9d39-3be82e3519f1</td>\n",
       "      <td>control</td>\n",
       "      <td>&lt;built-in method date of Timestamp object at 0...</td>\n",
       "      <td>7</td>\n",
       "      <td>Samsung</td>\n",
       "      <td>162</td>\n",
       "      <td>6</td>\n",
       "      <td>0</td>\n",
       "      <td>0</td>\n",
       "    </tr>\n",
       "  </tbody>\n",
       "</table>\n",
       "</div>"
      ],
      "text/plain": [
       "   Unnamed: 0                            auction_id experiment  \\\n",
       "0     1333639  8ec30aff-2332-4a1f-9330-b93abb32bc94    control   \n",
       "1      730667  4e1bcb56-357c-4186-9d39-3be82e3519f1    control   \n",
       "\n",
       "                                                date  hour device_make  \\\n",
       "0  <built-in method date of Timestamp object at 0...    15          LG   \n",
       "1  <built-in method date of Timestamp object at 0...     7     Samsung   \n",
       "\n",
       "   platform_os  browser  yes  no  \n",
       "0          156        6    0   0  \n",
       "1          162        6    0   0  "
      ]
     },
     "execution_count": 15,
     "metadata": {},
     "output_type": "execute_result"
    }
   ],
   "source": [
    "df_ads.head(2)"
   ]
  },
  {
   "cell_type": "markdown",
   "metadata": {},
   "source": [
    "### Explore The Data"
   ]
  },
  {
   "cell_type": "code",
   "execution_count": 17,
   "metadata": {},
   "outputs": [],
   "source": [
    "# info\n",
    "df_info = DataInfo(df_ads)"
   ]
  },
  {
   "cell_type": "code",
   "execution_count": 18,
   "metadata": {},
   "outputs": [
    {
     "name": "stdout",
     "output_type": "stream",
     "text": [
      "Dataframe contains 912712 rows and 10 columns\n"
     ]
    }
   ],
   "source": [
    "df_info.shape_df()"
   ]
  },
  {
   "cell_type": "code",
   "execution_count": 19,
   "metadata": {},
   "outputs": [
    {
     "name": "stdout",
     "output_type": "stream",
     "text": [
      "<class 'pandas.core.frame.DataFrame'>\n",
      "RangeIndex: 912712 entries, 0 to 912711\n",
      "Data columns (total 10 columns):\n",
      " #   Column       Non-Null Count   Dtype \n",
      "---  ------       --------------   ----- \n",
      " 0   Unnamed: 0   912712 non-null  int64 \n",
      " 1   auction_id   912712 non-null  object\n",
      " 2   experiment   912712 non-null  object\n",
      " 3   date         912712 non-null  object\n",
      " 4   hour         912712 non-null  int64 \n",
      " 5   device_make  912712 non-null  object\n",
      " 6   platform_os  912712 non-null  int64 \n",
      " 7   browser      912712 non-null  int64 \n",
      " 8   yes          912712 non-null  int64 \n",
      " 9   no           912712 non-null  int64 \n",
      "dtypes: int64(6), object(4)\n",
      "memory usage: 69.6+ MB\n",
      "None\n"
     ]
    }
   ],
   "source": [
    "df_info.detail_info()"
   ]
  },
  {
   "cell_type": "code",
   "execution_count": 20,
   "metadata": {},
   "outputs": [],
   "source": [
    "# copying dataframe and work on the copy 'df_copy'\n",
    "dfCopy= df_ads.copy(deep=True)"
   ]
  },
  {
   "cell_type": "code",
   "execution_count": 21,
   "metadata": {},
   "outputs": [
    {
     "data": {
      "text/html": [
       "<div>\n",
       "<style scoped>\n",
       "    .dataframe tbody tr th:only-of-type {\n",
       "        vertical-align: middle;\n",
       "    }\n",
       "\n",
       "    .dataframe tbody tr th {\n",
       "        vertical-align: top;\n",
       "    }\n",
       "\n",
       "    .dataframe thead th {\n",
       "        text-align: right;\n",
       "    }\n",
       "</style>\n",
       "<table border=\"1\" class=\"dataframe\">\n",
       "  <thead>\n",
       "    <tr style=\"text-align: right;\">\n",
       "      <th></th>\n",
       "      <th>sum</th>\n",
       "      <th>count</th>\n",
       "    </tr>\n",
       "  </thead>\n",
       "  <tbody>\n",
       "    <tr>\n",
       "      <th>0</th>\n",
       "      <td>10641</td>\n",
       "      <td>456356</td>\n",
       "    </tr>\n",
       "    <tr>\n",
       "      <th>1</th>\n",
       "      <td>82132</td>\n",
       "      <td>456356</td>\n",
       "    </tr>\n",
       "  </tbody>\n",
       "</table>\n",
       "</div>"
      ],
      "text/plain": [
       "     sum   count\n",
       "0  10641  456356\n",
       "1  82132  456356"
      ]
     },
     "execution_count": 21,
     "metadata": {},
     "output_type": "execute_result"
    }
   ],
   "source": [
    "# getting the count of the experiment groups before removing unresponsive users\n",
    "\n",
    "before_countdf = dfCopy.groupby('experiment').agg({'yes':['sum','count']}).reset_index().yes\n",
    "before_countdf"
   ]
  },
  {
   "cell_type": "markdown",
   "metadata": {},
   "source": [
    "The number of users in both the control and the exposed experiment groups are exactly the same, 456356."
   ]
  },
  {
   "cell_type": "code",
   "execution_count": 22,
   "metadata": {},
   "outputs": [
    {
     "name": "stderr",
     "output_type": "stream",
     "text": [
      "C:\\Users\\gwang\\AppData\\Local\\Temp\\ipykernel_15472\\2599583195.py:2: FutureWarning: The frame.append method is deprecated and will be removed from pandas in a future version. Use pandas.concat instead.\n",
      "  dfCopy = dfCopy[dfCopy['yes'] == 1].append(dfCopy[dfCopy['no'] == 1])\n"
     ]
    },
    {
     "data": {
      "text/html": [
       "<div>\n",
       "<style scoped>\n",
       "    .dataframe tbody tr th:only-of-type {\n",
       "        vertical-align: middle;\n",
       "    }\n",
       "\n",
       "    .dataframe tbody tr th {\n",
       "        vertical-align: top;\n",
       "    }\n",
       "\n",
       "    .dataframe thead th {\n",
       "        text-align: right;\n",
       "    }\n",
       "</style>\n",
       "<table border=\"1\" class=\"dataframe\">\n",
       "  <thead>\n",
       "    <tr style=\"text-align: right;\">\n",
       "      <th></th>\n",
       "      <th>Unnamed: 0</th>\n",
       "      <th>auction_id</th>\n",
       "      <th>experiment</th>\n",
       "      <th>date</th>\n",
       "      <th>hour</th>\n",
       "      <th>device_make</th>\n",
       "      <th>platform_os</th>\n",
       "      <th>browser</th>\n",
       "      <th>yes</th>\n",
       "      <th>no</th>\n",
       "    </tr>\n",
       "  </thead>\n",
       "  <tbody>\n",
       "    <tr>\n",
       "      <th>80</th>\n",
       "      <td>2201667</td>\n",
       "      <td>eb941471-f485-4516-b4d3-648e7838d53a</td>\n",
       "      <td>control</td>\n",
       "      <td>&lt;built-in method date of Timestamp object at 0...</td>\n",
       "      <td>15</td>\n",
       "      <td>Apple</td>\n",
       "      <td>101</td>\n",
       "      <td>15</td>\n",
       "      <td>1</td>\n",
       "      <td>0</td>\n",
       "    </tr>\n",
       "    <tr>\n",
       "      <th>84</th>\n",
       "      <td>917467</td>\n",
       "      <td>622af8e2-7bcf-4681-a921-442e1f8378f1</td>\n",
       "      <td>control</td>\n",
       "      <td>&lt;built-in method date of Timestamp object at 0...</td>\n",
       "      <td>6</td>\n",
       "      <td>Apple</td>\n",
       "      <td>101</td>\n",
       "      <td>5</td>\n",
       "      <td>1</td>\n",
       "      <td>0</td>\n",
       "    </tr>\n",
       "    <tr>\n",
       "      <th>103</th>\n",
       "      <td>809779</td>\n",
       "      <td>56a03982-6278-4083-9554-3a069dbc22c8</td>\n",
       "      <td>control</td>\n",
       "      <td>&lt;built-in method date of Timestamp object at 0...</td>\n",
       "      <td>20</td>\n",
       "      <td>Samsung</td>\n",
       "      <td>162</td>\n",
       "      <td>6</td>\n",
       "      <td>1</td>\n",
       "      <td>0</td>\n",
       "    </tr>\n",
       "    <tr>\n",
       "      <th>209</th>\n",
       "      <td>365586</td>\n",
       "      <td>2711e2f3-a624-4243-800e-693a888bc394</td>\n",
       "      <td>control</td>\n",
       "      <td>&lt;built-in method date of Timestamp object at 0...</td>\n",
       "      <td>3</td>\n",
       "      <td>Samsung</td>\n",
       "      <td>162</td>\n",
       "      <td>6</td>\n",
       "      <td>1</td>\n",
       "      <td>0</td>\n",
       "    </tr>\n",
       "    <tr>\n",
       "      <th>255</th>\n",
       "      <td>1215695</td>\n",
       "      <td>822e43cb-47a4-4101-90bb-02e7e1c2f576</td>\n",
       "      <td>control</td>\n",
       "      <td>&lt;built-in method date of Timestamp object at 0...</td>\n",
       "      <td>15</td>\n",
       "      <td>Apple</td>\n",
       "      <td>101</td>\n",
       "      <td>7</td>\n",
       "      <td>1</td>\n",
       "      <td>0</td>\n",
       "    </tr>\n",
       "  </tbody>\n",
       "</table>\n",
       "</div>"
      ],
      "text/plain": [
       "     Unnamed: 0                            auction_id experiment  \\\n",
       "80      2201667  eb941471-f485-4516-b4d3-648e7838d53a    control   \n",
       "84       917467  622af8e2-7bcf-4681-a921-442e1f8378f1    control   \n",
       "103      809779  56a03982-6278-4083-9554-3a069dbc22c8    control   \n",
       "209      365586  2711e2f3-a624-4243-800e-693a888bc394    control   \n",
       "255     1215695  822e43cb-47a4-4101-90bb-02e7e1c2f576    control   \n",
       "\n",
       "                                                  date  hour device_make  \\\n",
       "80   <built-in method date of Timestamp object at 0...    15       Apple   \n",
       "84   <built-in method date of Timestamp object at 0...     6       Apple   \n",
       "103  <built-in method date of Timestamp object at 0...    20     Samsung   \n",
       "209  <built-in method date of Timestamp object at 0...     3     Samsung   \n",
       "255  <built-in method date of Timestamp object at 0...    15       Apple   \n",
       "\n",
       "     platform_os  browser  yes  no  \n",
       "80           101       15    1   0  \n",
       "84           101        5    1   0  \n",
       "103          162        6    1   0  \n",
       "209          162        6    1   0  \n",
       "255          101        7    1   0  "
      ]
     },
     "execution_count": 22,
     "metadata": {},
     "output_type": "execute_result"
    }
   ],
   "source": [
    "# getting users who only select yes or no, since working on unresponive users won't be relevant\n",
    "dfCopy = dfCopy[dfCopy['yes'] == 1].append(dfCopy[dfCopy['no'] == 1])\n",
    "dfCopy.head(5)"
   ]
  },
  {
   "cell_type": "code",
   "execution_count": 23,
   "metadata": {},
   "outputs": [
    {
     "data": {
      "text/plain": [
       "(110570, 10)"
      ]
     },
     "execution_count": 23,
     "metadata": {},
     "output_type": "execute_result"
    }
   ],
   "source": [
    "dfCopy.shape"
   ]
  },
  {
   "cell_type": "code",
   "execution_count": 24,
   "metadata": {},
   "outputs": [
    {
     "data": {
      "text/html": [
       "<div>\n",
       "<style scoped>\n",
       "    .dataframe tbody tr th:only-of-type {\n",
       "        vertical-align: middle;\n",
       "    }\n",
       "\n",
       "    .dataframe tbody tr th {\n",
       "        vertical-align: top;\n",
       "    }\n",
       "\n",
       "    .dataframe thead th {\n",
       "        text-align: right;\n",
       "    }\n",
       "</style>\n",
       "<table border=\"1\" class=\"dataframe\">\n",
       "  <thead>\n",
       "    <tr style=\"text-align: right;\">\n",
       "      <th></th>\n",
       "      <th>Unnamed: 0</th>\n",
       "      <th>auction_id</th>\n",
       "      <th>experiment</th>\n",
       "      <th>date</th>\n",
       "      <th>hour</th>\n",
       "      <th>device_make</th>\n",
       "      <th>platform_os</th>\n",
       "      <th>browser</th>\n",
       "      <th>yes</th>\n",
       "      <th>no</th>\n",
       "    </tr>\n",
       "  </thead>\n",
       "  <tbody>\n",
       "    <tr>\n",
       "      <th>80</th>\n",
       "      <td>2201667</td>\n",
       "      <td>eb941471-f485-4516-b4d3-648e7838d53a</td>\n",
       "      <td>control</td>\n",
       "      <td>&lt;built-in method date of Timestamp object at 0...</td>\n",
       "      <td>15</td>\n",
       "      <td>Apple</td>\n",
       "      <td>101</td>\n",
       "      <td>15</td>\n",
       "      <td>1</td>\n",
       "      <td>0</td>\n",
       "    </tr>\n",
       "    <tr>\n",
       "      <th>84</th>\n",
       "      <td>917467</td>\n",
       "      <td>622af8e2-7bcf-4681-a921-442e1f8378f1</td>\n",
       "      <td>control</td>\n",
       "      <td>&lt;built-in method date of Timestamp object at 0...</td>\n",
       "      <td>6</td>\n",
       "      <td>Apple</td>\n",
       "      <td>101</td>\n",
       "      <td>5</td>\n",
       "      <td>1</td>\n",
       "      <td>0</td>\n",
       "    </tr>\n",
       "    <tr>\n",
       "      <th>103</th>\n",
       "      <td>809779</td>\n",
       "      <td>56a03982-6278-4083-9554-3a069dbc22c8</td>\n",
       "      <td>control</td>\n",
       "      <td>&lt;built-in method date of Timestamp object at 0...</td>\n",
       "      <td>20</td>\n",
       "      <td>Samsung</td>\n",
       "      <td>162</td>\n",
       "      <td>6</td>\n",
       "      <td>1</td>\n",
       "      <td>0</td>\n",
       "    </tr>\n",
       "    <tr>\n",
       "      <th>209</th>\n",
       "      <td>365586</td>\n",
       "      <td>2711e2f3-a624-4243-800e-693a888bc394</td>\n",
       "      <td>control</td>\n",
       "      <td>&lt;built-in method date of Timestamp object at 0...</td>\n",
       "      <td>3</td>\n",
       "      <td>Samsung</td>\n",
       "      <td>162</td>\n",
       "      <td>6</td>\n",
       "      <td>1</td>\n",
       "      <td>0</td>\n",
       "    </tr>\n",
       "    <tr>\n",
       "      <th>255</th>\n",
       "      <td>1215695</td>\n",
       "      <td>822e43cb-47a4-4101-90bb-02e7e1c2f576</td>\n",
       "      <td>control</td>\n",
       "      <td>&lt;built-in method date of Timestamp object at 0...</td>\n",
       "      <td>15</td>\n",
       "      <td>Apple</td>\n",
       "      <td>101</td>\n",
       "      <td>7</td>\n",
       "      <td>1</td>\n",
       "      <td>0</td>\n",
       "    </tr>\n",
       "  </tbody>\n",
       "</table>\n",
       "</div>"
      ],
      "text/plain": [
       "     Unnamed: 0                            auction_id experiment  \\\n",
       "80      2201667  eb941471-f485-4516-b4d3-648e7838d53a    control   \n",
       "84       917467  622af8e2-7bcf-4681-a921-442e1f8378f1    control   \n",
       "103      809779  56a03982-6278-4083-9554-3a069dbc22c8    control   \n",
       "209      365586  2711e2f3-a624-4243-800e-693a888bc394    control   \n",
       "255     1215695  822e43cb-47a4-4101-90bb-02e7e1c2f576    control   \n",
       "\n",
       "                                                  date  hour device_make  \\\n",
       "80   <built-in method date of Timestamp object at 0...    15       Apple   \n",
       "84   <built-in method date of Timestamp object at 0...     6       Apple   \n",
       "103  <built-in method date of Timestamp object at 0...    20     Samsung   \n",
       "209  <built-in method date of Timestamp object at 0...     3     Samsung   \n",
       "255  <built-in method date of Timestamp object at 0...    15       Apple   \n",
       "\n",
       "     platform_os  browser  yes  no  \n",
       "80           101       15    1   0  \n",
       "84           101        5    1   0  \n",
       "103          162        6    1   0  \n",
       "209          162        6    1   0  \n",
       "255          101        7    1   0  "
      ]
     },
     "execution_count": 24,
     "metadata": {},
     "output_type": "execute_result"
    }
   ],
   "source": [
    "# show the control group\n",
    "control_df = dfCopy[dfCopy['experiment'] == 'control']\n",
    "control_df.head(5)"
   ]
  },
  {
   "cell_type": "code",
   "execution_count": 25,
   "metadata": {},
   "outputs": [
    {
     "data": {
      "text/plain": [
       "(18899, 10)"
      ]
     },
     "execution_count": 25,
     "metadata": {},
     "output_type": "execute_result"
    }
   ],
   "source": [
    "control_df.shape"
   ]
  },
  {
   "cell_type": "code",
   "execution_count": 26,
   "metadata": {},
   "outputs": [
    {
     "data": {
      "text/html": [
       "<div>\n",
       "<style scoped>\n",
       "    .dataframe tbody tr th:only-of-type {\n",
       "        vertical-align: middle;\n",
       "    }\n",
       "\n",
       "    .dataframe tbody tr th {\n",
       "        vertical-align: top;\n",
       "    }\n",
       "\n",
       "    .dataframe thead th {\n",
       "        text-align: right;\n",
       "    }\n",
       "</style>\n",
       "<table border=\"1\" class=\"dataframe\">\n",
       "  <thead>\n",
       "    <tr style=\"text-align: right;\">\n",
       "      <th></th>\n",
       "      <th>Unnamed: 0</th>\n",
       "      <th>auction_id</th>\n",
       "      <th>experiment</th>\n",
       "      <th>date</th>\n",
       "      <th>hour</th>\n",
       "      <th>device_make</th>\n",
       "      <th>platform_os</th>\n",
       "      <th>browser</th>\n",
       "      <th>yes</th>\n",
       "      <th>no</th>\n",
       "    </tr>\n",
       "  </thead>\n",
       "  <tbody>\n",
       "    <tr>\n",
       "      <th>456356</th>\n",
       "      <td>189750</td>\n",
       "      <td>143da30d-ebde-467f-8d66-acc80a4ff898</td>\n",
       "      <td>exposed</td>\n",
       "      <td>&lt;built-in method date of Timestamp object at 0...</td>\n",
       "      <td>19</td>\n",
       "      <td>Samsung</td>\n",
       "      <td>101</td>\n",
       "      <td>15</td>\n",
       "      <td>1</td>\n",
       "      <td>0</td>\n",
       "    </tr>\n",
       "    <tr>\n",
       "      <th>456358</th>\n",
       "      <td>376033</td>\n",
       "      <td>28304800-7650-4dae-84be-17e5b5c04868</td>\n",
       "      <td>exposed</td>\n",
       "      <td>&lt;built-in method date of Timestamp object at 0...</td>\n",
       "      <td>4</td>\n",
       "      <td>Samsung</td>\n",
       "      <td>101</td>\n",
       "      <td>6</td>\n",
       "      <td>1</td>\n",
       "      <td>0</td>\n",
       "    </tr>\n",
       "    <tr>\n",
       "      <th>456364</th>\n",
       "      <td>2306172</td>\n",
       "      <td>f6d8f3f7-75b6-45a2-a277-793f3b387398</td>\n",
       "      <td>exposed</td>\n",
       "      <td>&lt;built-in method date of Timestamp object at 0...</td>\n",
       "      <td>8</td>\n",
       "      <td>Apple</td>\n",
       "      <td>101</td>\n",
       "      <td>7</td>\n",
       "      <td>1</td>\n",
       "      <td>0</td>\n",
       "    </tr>\n",
       "    <tr>\n",
       "      <th>456365</th>\n",
       "      <td>2065831</td>\n",
       "      <td>dd0355b7-b1cd-4c87-bf70-2c2093dd61b2</td>\n",
       "      <td>exposed</td>\n",
       "      <td>&lt;built-in method date of Timestamp object at 0...</td>\n",
       "      <td>0</td>\n",
       "      <td>Apple</td>\n",
       "      <td>163</td>\n",
       "      <td>7</td>\n",
       "      <td>1</td>\n",
       "      <td>0</td>\n",
       "    </tr>\n",
       "    <tr>\n",
       "      <th>456368</th>\n",
       "      <td>1412112</td>\n",
       "      <td>9728e114-5e94-4fb9-a193-44766e2abc55</td>\n",
       "      <td>exposed</td>\n",
       "      <td>&lt;built-in method date of Timestamp object at 0...</td>\n",
       "      <td>14</td>\n",
       "      <td>Samsung</td>\n",
       "      <td>162</td>\n",
       "      <td>6</td>\n",
       "      <td>1</td>\n",
       "      <td>0</td>\n",
       "    </tr>\n",
       "  </tbody>\n",
       "</table>\n",
       "</div>"
      ],
      "text/plain": [
       "        Unnamed: 0                            auction_id experiment  \\\n",
       "456356      189750  143da30d-ebde-467f-8d66-acc80a4ff898    exposed   \n",
       "456358      376033  28304800-7650-4dae-84be-17e5b5c04868    exposed   \n",
       "456364     2306172  f6d8f3f7-75b6-45a2-a277-793f3b387398    exposed   \n",
       "456365     2065831  dd0355b7-b1cd-4c87-bf70-2c2093dd61b2    exposed   \n",
       "456368     1412112  9728e114-5e94-4fb9-a193-44766e2abc55    exposed   \n",
       "\n",
       "                                                     date  hour device_make  \\\n",
       "456356  <built-in method date of Timestamp object at 0...    19     Samsung   \n",
       "456358  <built-in method date of Timestamp object at 0...     4     Samsung   \n",
       "456364  <built-in method date of Timestamp object at 0...     8       Apple   \n",
       "456365  <built-in method date of Timestamp object at 0...     0       Apple   \n",
       "456368  <built-in method date of Timestamp object at 0...    14     Samsung   \n",
       "\n",
       "        platform_os  browser  yes  no  \n",
       "456356          101       15    1   0  \n",
       "456358          101        6    1   0  \n",
       "456364          101        7    1   0  \n",
       "456365          163        7    1   0  \n",
       "456368          162        6    1   0  "
      ]
     },
     "execution_count": 26,
     "metadata": {},
     "output_type": "execute_result"
    }
   ],
   "source": [
    "# show the exposed group\n",
    "exposed_df = dfCopy[dfCopy['experiment'] == 'exposed']\n",
    "exposed_df.head(5)"
   ]
  },
  {
   "cell_type": "code",
   "execution_count": 27,
   "metadata": {},
   "outputs": [
    {
     "data": {
      "text/plain": [
       "(91671, 10)"
      ]
     },
     "execution_count": 27,
     "metadata": {},
     "output_type": "execute_result"
    }
   ],
   "source": [
    "exposed_df.shape"
   ]
  },
  {
   "cell_type": "markdown",
   "metadata": {},
   "source": [
    "## Only 110,570 auctions were responsive, out of which 18,899 are from the control group, and 91,671 form the exposed group."
   ]
  },
  {
   "cell_type": "markdown",
   "metadata": {},
   "source": [
    "## Dropping the column 'Unnamed: 0' from the control and exposed groups"
   ]
  },
  {
   "cell_type": "code",
   "execution_count": 34,
   "metadata": {},
   "outputs": [
    {
     "data": {
      "text/html": [
       "<div>\n",
       "<style scoped>\n",
       "    .dataframe tbody tr th:only-of-type {\n",
       "        vertical-align: middle;\n",
       "    }\n",
       "\n",
       "    .dataframe tbody tr th {\n",
       "        vertical-align: top;\n",
       "    }\n",
       "\n",
       "    .dataframe thead th {\n",
       "        text-align: right;\n",
       "    }\n",
       "</style>\n",
       "<table border=\"1\" class=\"dataframe\">\n",
       "  <thead>\n",
       "    <tr style=\"text-align: right;\">\n",
       "      <th></th>\n",
       "      <th>auction_id</th>\n",
       "      <th>experiment</th>\n",
       "      <th>date</th>\n",
       "      <th>hour</th>\n",
       "      <th>device_make</th>\n",
       "      <th>platform_os</th>\n",
       "      <th>browser</th>\n",
       "      <th>yes</th>\n",
       "      <th>no</th>\n",
       "    </tr>\n",
       "  </thead>\n",
       "  <tbody>\n",
       "    <tr>\n",
       "      <th>456356</th>\n",
       "      <td>143da30d-ebde-467f-8d66-acc80a4ff898</td>\n",
       "      <td>exposed</td>\n",
       "      <td>&lt;built-in method date of Timestamp object at 0...</td>\n",
       "      <td>19</td>\n",
       "      <td>Samsung</td>\n",
       "      <td>101</td>\n",
       "      <td>15</td>\n",
       "      <td>1</td>\n",
       "      <td>0</td>\n",
       "    </tr>\n",
       "    <tr>\n",
       "      <th>456358</th>\n",
       "      <td>28304800-7650-4dae-84be-17e5b5c04868</td>\n",
       "      <td>exposed</td>\n",
       "      <td>&lt;built-in method date of Timestamp object at 0...</td>\n",
       "      <td>4</td>\n",
       "      <td>Samsung</td>\n",
       "      <td>101</td>\n",
       "      <td>6</td>\n",
       "      <td>1</td>\n",
       "      <td>0</td>\n",
       "    </tr>\n",
       "    <tr>\n",
       "      <th>456364</th>\n",
       "      <td>f6d8f3f7-75b6-45a2-a277-793f3b387398</td>\n",
       "      <td>exposed</td>\n",
       "      <td>&lt;built-in method date of Timestamp object at 0...</td>\n",
       "      <td>8</td>\n",
       "      <td>Apple</td>\n",
       "      <td>101</td>\n",
       "      <td>7</td>\n",
       "      <td>1</td>\n",
       "      <td>0</td>\n",
       "    </tr>\n",
       "    <tr>\n",
       "      <th>456365</th>\n",
       "      <td>dd0355b7-b1cd-4c87-bf70-2c2093dd61b2</td>\n",
       "      <td>exposed</td>\n",
       "      <td>&lt;built-in method date of Timestamp object at 0...</td>\n",
       "      <td>0</td>\n",
       "      <td>Apple</td>\n",
       "      <td>163</td>\n",
       "      <td>7</td>\n",
       "      <td>1</td>\n",
       "      <td>0</td>\n",
       "    </tr>\n",
       "    <tr>\n",
       "      <th>456368</th>\n",
       "      <td>9728e114-5e94-4fb9-a193-44766e2abc55</td>\n",
       "      <td>exposed</td>\n",
       "      <td>&lt;built-in method date of Timestamp object at 0...</td>\n",
       "      <td>14</td>\n",
       "      <td>Samsung</td>\n",
       "      <td>162</td>\n",
       "      <td>6</td>\n",
       "      <td>1</td>\n",
       "      <td>0</td>\n",
       "    </tr>\n",
       "  </tbody>\n",
       "</table>\n",
       "</div>"
      ],
      "text/plain": [
       "                                  auction_id experiment  \\\n",
       "456356  143da30d-ebde-467f-8d66-acc80a4ff898    exposed   \n",
       "456358  28304800-7650-4dae-84be-17e5b5c04868    exposed   \n",
       "456364  f6d8f3f7-75b6-45a2-a277-793f3b387398    exposed   \n",
       "456365  dd0355b7-b1cd-4c87-bf70-2c2093dd61b2    exposed   \n",
       "456368  9728e114-5e94-4fb9-a193-44766e2abc55    exposed   \n",
       "\n",
       "                                                     date  hour device_make  \\\n",
       "456356  <built-in method date of Timestamp object at 0...    19     Samsung   \n",
       "456358  <built-in method date of Timestamp object at 0...     4     Samsung   \n",
       "456364  <built-in method date of Timestamp object at 0...     8       Apple   \n",
       "456365  <built-in method date of Timestamp object at 0...     0       Apple   \n",
       "456368  <built-in method date of Timestamp object at 0...    14     Samsung   \n",
       "\n",
       "        platform_os  browser  yes  no  \n",
       "456356          101       15    1   0  \n",
       "456358          101        6    1   0  \n",
       "456364          101        7    1   0  \n",
       "456365          163        7    1   0  \n",
       "456368          162        6    1   0  "
      ]
     },
     "execution_count": 34,
     "metadata": {},
     "output_type": "execute_result"
    }
   ],
   "source": [
    "# dropping the column 'Unnamed: 0' from the exposed group\n",
    "\n",
    "new_exposed_df = exposed_df[['auction_id', 'experiment', 'date', 'hour', 'device_make', 'platform_os', 'browser', 'yes', 'no']]\n",
    "new_exposed_df.head()"
   ]
  },
  {
   "cell_type": "code",
   "execution_count": 35,
   "metadata": {},
   "outputs": [
    {
     "data": {
      "text/plain": [
       "(91671, 9)"
      ]
     },
     "execution_count": 35,
     "metadata": {},
     "output_type": "execute_result"
    }
   ],
   "source": [
    "new_exposed_df.shape"
   ]
  },
  {
   "cell_type": "code",
   "execution_count": 36,
   "metadata": {},
   "outputs": [
    {
     "data": {
      "text/html": [
       "<div>\n",
       "<style scoped>\n",
       "    .dataframe tbody tr th:only-of-type {\n",
       "        vertical-align: middle;\n",
       "    }\n",
       "\n",
       "    .dataframe tbody tr th {\n",
       "        vertical-align: top;\n",
       "    }\n",
       "\n",
       "    .dataframe thead th {\n",
       "        text-align: right;\n",
       "    }\n",
       "</style>\n",
       "<table border=\"1\" class=\"dataframe\">\n",
       "  <thead>\n",
       "    <tr style=\"text-align: right;\">\n",
       "      <th></th>\n",
       "      <th>auction_id</th>\n",
       "      <th>experiment</th>\n",
       "      <th>date</th>\n",
       "      <th>hour</th>\n",
       "      <th>device_make</th>\n",
       "      <th>platform_os</th>\n",
       "      <th>browser</th>\n",
       "      <th>yes</th>\n",
       "      <th>no</th>\n",
       "    </tr>\n",
       "  </thead>\n",
       "  <tbody>\n",
       "    <tr>\n",
       "      <th>80</th>\n",
       "      <td>eb941471-f485-4516-b4d3-648e7838d53a</td>\n",
       "      <td>control</td>\n",
       "      <td>&lt;built-in method date of Timestamp object at 0...</td>\n",
       "      <td>15</td>\n",
       "      <td>Apple</td>\n",
       "      <td>101</td>\n",
       "      <td>15</td>\n",
       "      <td>1</td>\n",
       "      <td>0</td>\n",
       "    </tr>\n",
       "    <tr>\n",
       "      <th>84</th>\n",
       "      <td>622af8e2-7bcf-4681-a921-442e1f8378f1</td>\n",
       "      <td>control</td>\n",
       "      <td>&lt;built-in method date of Timestamp object at 0...</td>\n",
       "      <td>6</td>\n",
       "      <td>Apple</td>\n",
       "      <td>101</td>\n",
       "      <td>5</td>\n",
       "      <td>1</td>\n",
       "      <td>0</td>\n",
       "    </tr>\n",
       "    <tr>\n",
       "      <th>103</th>\n",
       "      <td>56a03982-6278-4083-9554-3a069dbc22c8</td>\n",
       "      <td>control</td>\n",
       "      <td>&lt;built-in method date of Timestamp object at 0...</td>\n",
       "      <td>20</td>\n",
       "      <td>Samsung</td>\n",
       "      <td>162</td>\n",
       "      <td>6</td>\n",
       "      <td>1</td>\n",
       "      <td>0</td>\n",
       "    </tr>\n",
       "  </tbody>\n",
       "</table>\n",
       "</div>"
      ],
      "text/plain": [
       "                               auction_id experiment  \\\n",
       "80   eb941471-f485-4516-b4d3-648e7838d53a    control   \n",
       "84   622af8e2-7bcf-4681-a921-442e1f8378f1    control   \n",
       "103  56a03982-6278-4083-9554-3a069dbc22c8    control   \n",
       "\n",
       "                                                  date  hour device_make  \\\n",
       "80   <built-in method date of Timestamp object at 0...    15       Apple   \n",
       "84   <built-in method date of Timestamp object at 0...     6       Apple   \n",
       "103  <built-in method date of Timestamp object at 0...    20     Samsung   \n",
       "\n",
       "     platform_os  browser  yes  no  \n",
       "80           101       15    1   0  \n",
       "84           101        5    1   0  \n",
       "103          162        6    1   0  "
      ]
     },
     "execution_count": 36,
     "metadata": {},
     "output_type": "execute_result"
    }
   ],
   "source": [
    "# dropping the column 'Unnamed: 0' from the control group\n",
    "\n",
    "new_control_df = control_df[['auction_id', 'experiment', 'date', 'hour', 'device_make', 'platform_os', 'browser', 'yes', 'no']]\n",
    "new_control_df.head(3)"
   ]
  },
  {
   "cell_type": "code",
   "execution_count": 37,
   "metadata": {},
   "outputs": [
    {
     "data": {
      "text/plain": [
       "(18899, 9)"
      ]
     },
     "execution_count": 37,
     "metadata": {},
     "output_type": "execute_result"
    }
   ],
   "source": [
    "new_control_df.shape"
   ]
  },
  {
   "cell_type": "markdown",
   "metadata": {},
   "source": [
    "The number of rows matches the ones gotten from above."
   ]
  },
  {
   "cell_type": "markdown",
   "metadata": {},
   "source": [
    "## Removing the 'date' column\n",
    "All values in the 'date' column are of a similar unique type to this: <built-in method date of Timestamp object at 0x7fc338c32de0>.\n",
    "<br>\n",
    "As a result, we will remove them from our dataset in order to get a better understanding of the dataset holistically."
   ]
  },
  {
   "cell_type": "code",
   "execution_count": 38,
   "metadata": {},
   "outputs": [
    {
     "data": {
      "text/html": [
       "<div>\n",
       "<style scoped>\n",
       "    .dataframe tbody tr th:only-of-type {\n",
       "        vertical-align: middle;\n",
       "    }\n",
       "\n",
       "    .dataframe tbody tr th {\n",
       "        vertical-align: top;\n",
       "    }\n",
       "\n",
       "    .dataframe thead th {\n",
       "        text-align: right;\n",
       "    }\n",
       "</style>\n",
       "<table border=\"1\" class=\"dataframe\">\n",
       "  <thead>\n",
       "    <tr style=\"text-align: right;\">\n",
       "      <th></th>\n",
       "      <th>auction_id</th>\n",
       "      <th>experiment</th>\n",
       "      <th>hour</th>\n",
       "      <th>device_make</th>\n",
       "      <th>platform_os</th>\n",
       "      <th>browser</th>\n",
       "      <th>yes</th>\n",
       "      <th>no</th>\n",
       "    </tr>\n",
       "  </thead>\n",
       "  <tbody>\n",
       "    <tr>\n",
       "      <th>456356</th>\n",
       "      <td>143da30d-ebde-467f-8d66-acc80a4ff898</td>\n",
       "      <td>exposed</td>\n",
       "      <td>19</td>\n",
       "      <td>Samsung</td>\n",
       "      <td>101</td>\n",
       "      <td>15</td>\n",
       "      <td>1</td>\n",
       "      <td>0</td>\n",
       "    </tr>\n",
       "    <tr>\n",
       "      <th>456358</th>\n",
       "      <td>28304800-7650-4dae-84be-17e5b5c04868</td>\n",
       "      <td>exposed</td>\n",
       "      <td>4</td>\n",
       "      <td>Samsung</td>\n",
       "      <td>101</td>\n",
       "      <td>6</td>\n",
       "      <td>1</td>\n",
       "      <td>0</td>\n",
       "    </tr>\n",
       "  </tbody>\n",
       "</table>\n",
       "</div>"
      ],
      "text/plain": [
       "                                  auction_id experiment  hour device_make  \\\n",
       "456356  143da30d-ebde-467f-8d66-acc80a4ff898    exposed    19     Samsung   \n",
       "456358  28304800-7650-4dae-84be-17e5b5c04868    exposed     4     Samsung   \n",
       "\n",
       "        platform_os  browser  yes  no  \n",
       "456356          101       15    1   0  \n",
       "456358          101        6    1   0  "
      ]
     },
     "execution_count": 38,
     "metadata": {},
     "output_type": "execute_result"
    }
   ],
   "source": [
    "# for the exposed group\n",
    "\n",
    "newnew_exposed_df = new_exposed_df[['auction_id', 'experiment', 'hour', 'device_make', 'platform_os', 'browser', 'yes', 'no']]\n",
    "newnew_exposed_df.head(2)"
   ]
  },
  {
   "cell_type": "code",
   "execution_count": 39,
   "metadata": {},
   "outputs": [
    {
     "data": {
      "text/plain": [
       "(91671, 8)"
      ]
     },
     "execution_count": 39,
     "metadata": {},
     "output_type": "execute_result"
    }
   ],
   "source": [
    "newnew_exposed_df.shape"
   ]
  },
  {
   "cell_type": "code",
   "execution_count": 40,
   "metadata": {},
   "outputs": [
    {
     "data": {
      "text/html": [
       "<div>\n",
       "<style scoped>\n",
       "    .dataframe tbody tr th:only-of-type {\n",
       "        vertical-align: middle;\n",
       "    }\n",
       "\n",
       "    .dataframe tbody tr th {\n",
       "        vertical-align: top;\n",
       "    }\n",
       "\n",
       "    .dataframe thead th {\n",
       "        text-align: right;\n",
       "    }\n",
       "</style>\n",
       "<table border=\"1\" class=\"dataframe\">\n",
       "  <thead>\n",
       "    <tr style=\"text-align: right;\">\n",
       "      <th></th>\n",
       "      <th>auction_id</th>\n",
       "      <th>experiment</th>\n",
       "      <th>hour</th>\n",
       "      <th>device_make</th>\n",
       "      <th>platform_os</th>\n",
       "      <th>browser</th>\n",
       "      <th>yes</th>\n",
       "      <th>no</th>\n",
       "    </tr>\n",
       "  </thead>\n",
       "  <tbody>\n",
       "    <tr>\n",
       "      <th>80</th>\n",
       "      <td>eb941471-f485-4516-b4d3-648e7838d53a</td>\n",
       "      <td>control</td>\n",
       "      <td>15</td>\n",
       "      <td>Apple</td>\n",
       "      <td>101</td>\n",
       "      <td>15</td>\n",
       "      <td>1</td>\n",
       "      <td>0</td>\n",
       "    </tr>\n",
       "    <tr>\n",
       "      <th>84</th>\n",
       "      <td>622af8e2-7bcf-4681-a921-442e1f8378f1</td>\n",
       "      <td>control</td>\n",
       "      <td>6</td>\n",
       "      <td>Apple</td>\n",
       "      <td>101</td>\n",
       "      <td>5</td>\n",
       "      <td>1</td>\n",
       "      <td>0</td>\n",
       "    </tr>\n",
       "  </tbody>\n",
       "</table>\n",
       "</div>"
      ],
      "text/plain": [
       "                              auction_id experiment  hour device_make  \\\n",
       "80  eb941471-f485-4516-b4d3-648e7838d53a    control    15       Apple   \n",
       "84  622af8e2-7bcf-4681-a921-442e1f8378f1    control     6       Apple   \n",
       "\n",
       "    platform_os  browser  yes  no  \n",
       "80          101       15    1   0  \n",
       "84          101        5    1   0  "
      ]
     },
     "execution_count": 40,
     "metadata": {},
     "output_type": "execute_result"
    }
   ],
   "source": [
    "# for the control group\n",
    "\n",
    "newnew_control_df = new_control_df[['auction_id', 'experiment', 'hour', 'device_make', 'platform_os', 'browser', 'yes', 'no']]\n",
    "newnew_control_df.head(2)"
   ]
  },
  {
   "cell_type": "code",
   "execution_count": 41,
   "metadata": {},
   "outputs": [
    {
     "data": {
      "text/plain": [
       "(18899, 8)"
      ]
     },
     "execution_count": 41,
     "metadata": {},
     "output_type": "execute_result"
    }
   ],
   "source": [
    "newnew_control_df.shape"
   ]
  },
  {
   "cell_type": "markdown",
   "metadata": {},
   "source": [
    "## Plotting "
   ]
  },
  {
   "cell_type": "code",
   "execution_count": 28,
   "metadata": {},
   "outputs": [
    {
     "data": {
      "image/png": "[encoded data removed]",
      "text/plain": [
       "<Figure size 720x360 with 1 Axes>"
      ]
     },
     "metadata": {
      "needs_background": "light"
     },
     "output_type": "display_data"
    }
   ],
   "source": [
    "# histogram of experiment groups\n",
    "fig = VisualiseDf.plot_hist(dfCopy,'experiment','blue')"
   ]
  },
  {
   "cell_type": "markdown",
   "metadata": {},
   "source": [
    "This shows that there were more people exposed to the experiment in this dataset."
   ]
  },
  {
   "cell_type": "code",
   "execution_count": 43,
   "metadata": {},
   "outputs": [
    {
     "data": {
      "image/png": "[encoded data removed]",
      "text/plain": [
       "<Figure size 720x360 with 1 Axes>"
      ]
     },
     "metadata": {
      "needs_background": "light"
     },
     "output_type": "display_data"
    }
   ],
   "source": [
    "# histogram of hour\n",
    "fig = VisualiseDf.plot_hist(dfCopy,'hour','red')"
   ]
  },
  {
   "cell_type": "markdown",
   "metadata": {},
   "source": [
    "Most responses were recorded either really late at tnight or in the late afternoon."
   ]
  },
  {
   "cell_type": "code",
   "execution_count": 45,
   "metadata": {
    "scrolled": true
   },
   "outputs": [
    {
     "data": {
      "image/png": "[encoded data removed]",
      "text/plain": [
       "<Figure size 720x360 with 1 Axes>"
      ]
     },
     "metadata": {
      "needs_background": "light"
     },
     "output_type": "display_data"
    }
   ],
   "source": [
    "# histogram of device_make\n",
    "fig = VisualiseDf.plot_hist(dfCopy,'device_make','orange')"
   ]
  },
  {
   "cell_type": "markdown",
   "metadata": {},
   "source": [
    "Most users had samsung phones, with the second most frequent device_make being apple. "
   ]
  },
  {
   "cell_type": "code",
   "execution_count": 47,
   "metadata": {},
   "outputs": [
    {
     "data": {
      "image/png": "[encoded data removed]",
      "text/plain": [
       "<Figure size 720x360 with 1 Axes>"
      ]
     },
     "metadata": {
      "needs_background": "light"
     },
     "output_type": "display_data"
    }
   ],
   "source": [
    "# histogram of platform_os\n",
    "fig = VisualiseDf.plot_hist(dfCopy,'platform_os','yellow')"
   ]
  },
  {
   "cell_type": "markdown",
   "metadata": {},
   "source": [
    "Most users used recorded answers on devices using plaform 100."
   ]
  },
  {
   "cell_type": "code",
   "execution_count": 48,
   "metadata": {},
   "outputs": [
    {
     "data": {
      "image/png": "[encoded data removed]",
      "text/plain": [
       "<Figure size 720x360 with 1 Axes>"
      ]
     },
     "metadata": {
      "needs_background": "light"
     },
     "output_type": "display_data"
    }
   ],
   "source": [
    "# histogram of browser\n",
    "fig = VisualiseDf.plot_hist(dfCopy,'browser','green')"
   ]
  },
  {
   "cell_type": "markdown",
   "metadata": {},
   "source": [
    "Browser 6 looks like it has a browser monopoly among the people who recordeed answers."
   ]
  },
  {
   "cell_type": "code",
   "execution_count": 50,
   "metadata": {},
   "outputs": [
    {
     "data": {
      "image/png": "[encoded data removed]",
      "text/plain": [
       "<Figure size 720x360 with 1 Axes>"
      ]
     },
     "metadata": {
      "needs_background": "light"
     },
     "output_type": "display_data"
    }
   ],
   "source": [
    "# histogram of yes\n",
    "fig = VisualiseDf.plot_hist(dfCopy,'no','blue')"
   ]
  },
  {
   "cell_type": "code",
   "execution_count": 51,
   "metadata": {},
   "outputs": [
    {
     "data": {
      "text/html": [
       "<div>\n",
       "<style scoped>\n",
       "    .dataframe tbody tr th:only-of-type {\n",
       "        vertical-align: middle;\n",
       "    }\n",
       "\n",
       "    .dataframe tbody tr th {\n",
       "        vertical-align: top;\n",
       "    }\n",
       "\n",
       "    .dataframe thead th {\n",
       "        text-align: right;\n",
       "    }\n",
       "</style>\n",
       "<table border=\"1\" class=\"dataframe\">\n",
       "  <thead>\n",
       "    <tr style=\"text-align: right;\">\n",
       "      <th></th>\n",
       "      <th>browser</th>\n",
       "      <th>count</th>\n",
       "    </tr>\n",
       "  </thead>\n",
       "  <tbody>\n",
       "    <tr>\n",
       "      <th>0</th>\n",
       "      <td>6</td>\n",
       "      <td>72954</td>\n",
       "    </tr>\n",
       "    <tr>\n",
       "      <th>1</th>\n",
       "      <td>15</td>\n",
       "      <td>22489</td>\n",
       "    </tr>\n",
       "    <tr>\n",
       "      <th>2</th>\n",
       "      <td>7</td>\n",
       "      <td>14979</td>\n",
       "    </tr>\n",
       "    <tr>\n",
       "      <th>3</th>\n",
       "      <td>5</td>\n",
       "      <td>86</td>\n",
       "    </tr>\n",
       "    <tr>\n",
       "      <th>4</th>\n",
       "      <td>12</td>\n",
       "      <td>38</td>\n",
       "    </tr>\n",
       "    <tr>\n",
       "      <th>5</th>\n",
       "      <td>1</td>\n",
       "      <td>14</td>\n",
       "    </tr>\n",
       "    <tr>\n",
       "      <th>6</th>\n",
       "      <td>8</td>\n",
       "      <td>10</td>\n",
       "    </tr>\n",
       "  </tbody>\n",
       "</table>\n",
       "</div>"
      ],
      "text/plain": [
       "   browser  count\n",
       "0        6  72954\n",
       "1       15  22489\n",
       "2        7  14979\n",
       "3        5     86\n",
       "4       12     38\n",
       "5        1     14\n",
       "6        8     10"
      ]
     },
     "execution_count": 51,
     "metadata": {},
     "output_type": "execute_result"
    }
   ],
   "source": [
    "# grouping data by browser and showing aggregates of 10 hours\n",
    "data_byDate = dfCopy.groupby(['browser']).agg({'hour': ['count']})\n",
    "data_byDate.columns = ['count']\n",
    "data_byDate = data_byDate.sort_values(by='count', ascending=False)\n",
    "data_byDate = data_byDate.reset_index()\n",
    "data_byDate.head(10)"
   ]
  },
  {
   "cell_type": "code",
   "execution_count": null,
   "metadata": {},
   "outputs": [],
   "source": [
    "# fig = VisualiseDf.plot_hist(dfCopy,'date','brown')"
   ]
  },
  {
   "cell_type": "markdown",
   "metadata": {},
   "source": [
    "## Most responses seem to have been recorded at night, in between the hours of 12am-3am."
   ]
  },
  {
   "cell_type": "code",
   "execution_count": 52,
   "metadata": {},
   "outputs": [
    {
     "data": {
      "text/html": [
       "<div>\n",
       "<style scoped>\n",
       "    .dataframe tbody tr th:only-of-type {\n",
       "        vertical-align: middle;\n",
       "    }\n",
       "\n",
       "    .dataframe tbody tr th {\n",
       "        vertical-align: top;\n",
       "    }\n",
       "\n",
       "    .dataframe thead th {\n",
       "        text-align: right;\n",
       "    }\n",
       "</style>\n",
       "<table border=\"1\" class=\"dataframe\">\n",
       "  <thead>\n",
       "    <tr style=\"text-align: right;\">\n",
       "      <th></th>\n",
       "      <th>experiment</th>\n",
       "      <th>hour</th>\n",
       "      <th>yes</th>\n",
       "      <th>no</th>\n",
       "    </tr>\n",
       "    <tr>\n",
       "      <th>hour</th>\n",
       "      <th></th>\n",
       "      <th></th>\n",
       "      <th></th>\n",
       "      <th></th>\n",
       "    </tr>\n",
       "  </thead>\n",
       "  <tbody>\n",
       "    <tr>\n",
       "      <th>0</th>\n",
       "      <td>7746</td>\n",
       "      <td>0</td>\n",
       "      <td>6620</td>\n",
       "      <td>1126</td>\n",
       "    </tr>\n",
       "    <tr>\n",
       "      <th>1</th>\n",
       "      <td>7681</td>\n",
       "      <td>7681</td>\n",
       "      <td>6599</td>\n",
       "      <td>1082</td>\n",
       "    </tr>\n",
       "    <tr>\n",
       "      <th>2</th>\n",
       "      <td>7840</td>\n",
       "      <td>15680</td>\n",
       "      <td>6600</td>\n",
       "      <td>1240</td>\n",
       "    </tr>\n",
       "    <tr>\n",
       "      <th>3</th>\n",
       "      <td>7837</td>\n",
       "      <td>23511</td>\n",
       "      <td>6652</td>\n",
       "      <td>1185</td>\n",
       "    </tr>\n",
       "    <tr>\n",
       "      <th>4</th>\n",
       "      <td>7591</td>\n",
       "      <td>30364</td>\n",
       "      <td>6512</td>\n",
       "      <td>1079</td>\n",
       "    </tr>\n",
       "    <tr>\n",
       "      <th>5</th>\n",
       "      <td>4471</td>\n",
       "      <td>22355</td>\n",
       "      <td>3825</td>\n",
       "      <td>646</td>\n",
       "    </tr>\n",
       "    <tr>\n",
       "      <th>6</th>\n",
       "      <td>3949</td>\n",
       "      <td>23694</td>\n",
       "      <td>3332</td>\n",
       "      <td>617</td>\n",
       "    </tr>\n",
       "    <tr>\n",
       "      <th>7</th>\n",
       "      <td>3086</td>\n",
       "      <td>21602</td>\n",
       "      <td>2564</td>\n",
       "      <td>522</td>\n",
       "    </tr>\n",
       "    <tr>\n",
       "      <th>8</th>\n",
       "      <td>2369</td>\n",
       "      <td>18952</td>\n",
       "      <td>1951</td>\n",
       "      <td>418</td>\n",
       "    </tr>\n",
       "    <tr>\n",
       "      <th>9</th>\n",
       "      <td>2278</td>\n",
       "      <td>20502</td>\n",
       "      <td>1854</td>\n",
       "      <td>424</td>\n",
       "    </tr>\n",
       "    <tr>\n",
       "      <th>10</th>\n",
       "      <td>2472</td>\n",
       "      <td>24720</td>\n",
       "      <td>2018</td>\n",
       "      <td>454</td>\n",
       "    </tr>\n",
       "    <tr>\n",
       "      <th>11</th>\n",
       "      <td>2928</td>\n",
       "      <td>32208</td>\n",
       "      <td>2456</td>\n",
       "      <td>472</td>\n",
       "    </tr>\n",
       "    <tr>\n",
       "      <th>12</th>\n",
       "      <td>3307</td>\n",
       "      <td>39684</td>\n",
       "      <td>2861</td>\n",
       "      <td>446</td>\n",
       "    </tr>\n",
       "    <tr>\n",
       "      <th>13</th>\n",
       "      <td>3761</td>\n",
       "      <td>48893</td>\n",
       "      <td>3268</td>\n",
       "      <td>493</td>\n",
       "    </tr>\n",
       "    <tr>\n",
       "      <th>14</th>\n",
       "      <td>4059</td>\n",
       "      <td>56826</td>\n",
       "      <td>3482</td>\n",
       "      <td>577</td>\n",
       "    </tr>\n",
       "    <tr>\n",
       "      <th>15</th>\n",
       "      <td>4482</td>\n",
       "      <td>67230</td>\n",
       "      <td>3759</td>\n",
       "      <td>723</td>\n",
       "    </tr>\n",
       "    <tr>\n",
       "      <th>16</th>\n",
       "      <td>5069</td>\n",
       "      <td>81104</td>\n",
       "      <td>4279</td>\n",
       "      <td>790</td>\n",
       "    </tr>\n",
       "    <tr>\n",
       "      <th>17</th>\n",
       "      <td>4747</td>\n",
       "      <td>80699</td>\n",
       "      <td>4077</td>\n",
       "      <td>670</td>\n",
       "    </tr>\n",
       "    <tr>\n",
       "      <th>18</th>\n",
       "      <td>4867</td>\n",
       "      <td>87606</td>\n",
       "      <td>4166</td>\n",
       "      <td>701</td>\n",
       "    </tr>\n",
       "    <tr>\n",
       "      <th>19</th>\n",
       "      <td>4753</td>\n",
       "      <td>90307</td>\n",
       "      <td>4055</td>\n",
       "      <td>698</td>\n",
       "    </tr>\n",
       "    <tr>\n",
       "      <th>20</th>\n",
       "      <td>4367</td>\n",
       "      <td>87340</td>\n",
       "      <td>3691</td>\n",
       "      <td>676</td>\n",
       "    </tr>\n",
       "    <tr>\n",
       "      <th>21</th>\n",
       "      <td>4223</td>\n",
       "      <td>88683</td>\n",
       "      <td>3615</td>\n",
       "      <td>608</td>\n",
       "    </tr>\n",
       "    <tr>\n",
       "      <th>22</th>\n",
       "      <td>2853</td>\n",
       "      <td>62766</td>\n",
       "      <td>2396</td>\n",
       "      <td>457</td>\n",
       "    </tr>\n",
       "    <tr>\n",
       "      <th>23</th>\n",
       "      <td>3834</td>\n",
       "      <td>88182</td>\n",
       "      <td>2141</td>\n",
       "      <td>1693</td>\n",
       "    </tr>\n",
       "  </tbody>\n",
       "</table>\n",
       "</div>"
      ],
      "text/plain": [
       "      experiment   hour   yes    no\n",
       "hour                               \n",
       "0           7746      0  6620  1126\n",
       "1           7681   7681  6599  1082\n",
       "2           7840  15680  6600  1240\n",
       "3           7837  23511  6652  1185\n",
       "4           7591  30364  6512  1079\n",
       "5           4471  22355  3825   646\n",
       "6           3949  23694  3332   617\n",
       "7           3086  21602  2564   522\n",
       "8           2369  18952  1951   418\n",
       "9           2278  20502  1854   424\n",
       "10          2472  24720  2018   454\n",
       "11          2928  32208  2456   472\n",
       "12          3307  39684  2861   446\n",
       "13          3761  48893  3268   493\n",
       "14          4059  56826  3482   577\n",
       "15          4482  67230  3759   723\n",
       "16          5069  81104  4279   790\n",
       "17          4747  80699  4077   670\n",
       "18          4867  87606  4166   701\n",
       "19          4753  90307  4055   698\n",
       "20          4367  87340  3691   676\n",
       "21          4223  88683  3615   608\n",
       "22          2853  62766  2396   457\n",
       "23          3834  88182  2141  1693"
      ]
     },
     "execution_count": 52,
     "metadata": {},
     "output_type": "execute_result"
    }
   ],
   "source": [
    "# group by hour and aggreagte all columns \n",
    "date_Agg = dfCopy.groupby('hour').agg({'experiment':'count','hour':'sum','yes':'sum', 'no':'sum'})\n",
    "date_Agg"
   ]
  },
  {
   "cell_type": "markdown",
   "metadata": {},
   "source": [
    "## * this shows overall statuses in a day\n"
   ]
  },
  {
   "cell_type": "code",
   "execution_count": 54,
   "metadata": {},
   "outputs": [
    {
     "name": "stderr",
     "output_type": "stream",
     "text": [
      "C:\\Users\\gwang\\AppData\\Local\\Temp\\ipykernel_15472\\2758419438.py:8: FutureWarning: The frame.append method is deprecated and will be removed from pandas in a future version. Use pandas.concat instead.\n",
      "  control_plot_df = df1.append(df2).reset_index(drop=True)\n"
     ]
    },
    {
     "data": {
      "text/html": [
       "<div>\n",
       "<style scoped>\n",
       "    .dataframe tbody tr th:only-of-type {\n",
       "        vertical-align: middle;\n",
       "    }\n",
       "\n",
       "    .dataframe tbody tr th {\n",
       "        vertical-align: top;\n",
       "    }\n",
       "\n",
       "    .dataframe thead th {\n",
       "        text-align: right;\n",
       "    }\n",
       "</style>\n",
       "<table border=\"1\" class=\"dataframe\">\n",
       "  <thead>\n",
       "    <tr style=\"text-align: right;\">\n",
       "      <th></th>\n",
       "      <th>auction_id</th>\n",
       "      <th>experiment</th>\n",
       "      <th>hour</th>\n",
       "      <th>device_make</th>\n",
       "      <th>platform_os</th>\n",
       "      <th>browser</th>\n",
       "      <th>response</th>\n",
       "    </tr>\n",
       "  </thead>\n",
       "  <tbody>\n",
       "    <tr>\n",
       "      <th>0</th>\n",
       "      <td>eb941471-f485-4516-b4d3-648e7838d53a</td>\n",
       "      <td>control</td>\n",
       "      <td>15</td>\n",
       "      <td>Apple</td>\n",
       "      <td>101</td>\n",
       "      <td>15</td>\n",
       "      <td>1</td>\n",
       "    </tr>\n",
       "    <tr>\n",
       "      <th>1</th>\n",
       "      <td>622af8e2-7bcf-4681-a921-442e1f8378f1</td>\n",
       "      <td>control</td>\n",
       "      <td>6</td>\n",
       "      <td>Apple</td>\n",
       "      <td>101</td>\n",
       "      <td>5</td>\n",
       "      <td>1</td>\n",
       "    </tr>\n",
       "    <tr>\n",
       "      <th>2</th>\n",
       "      <td>56a03982-6278-4083-9554-3a069dbc22c8</td>\n",
       "      <td>control</td>\n",
       "      <td>20</td>\n",
       "      <td>Samsung</td>\n",
       "      <td>162</td>\n",
       "      <td>6</td>\n",
       "      <td>1</td>\n",
       "    </tr>\n",
       "    <tr>\n",
       "      <th>3</th>\n",
       "      <td>2711e2f3-a624-4243-800e-693a888bc394</td>\n",
       "      <td>control</td>\n",
       "      <td>3</td>\n",
       "      <td>Samsung</td>\n",
       "      <td>162</td>\n",
       "      <td>6</td>\n",
       "      <td>1</td>\n",
       "    </tr>\n",
       "    <tr>\n",
       "      <th>4</th>\n",
       "      <td>822e43cb-47a4-4101-90bb-02e7e1c2f576</td>\n",
       "      <td>control</td>\n",
       "      <td>15</td>\n",
       "      <td>Apple</td>\n",
       "      <td>101</td>\n",
       "      <td>7</td>\n",
       "      <td>1</td>\n",
       "    </tr>\n",
       "  </tbody>\n",
       "</table>\n",
       "</div>"
      ],
      "text/plain": [
       "                             auction_id experiment  hour device_make  \\\n",
       "0  eb941471-f485-4516-b4d3-648e7838d53a    control    15       Apple   \n",
       "1  622af8e2-7bcf-4681-a921-442e1f8378f1    control     6       Apple   \n",
       "2  56a03982-6278-4083-9554-3a069dbc22c8    control    20     Samsung   \n",
       "3  2711e2f3-a624-4243-800e-693a888bc394    control     3     Samsung   \n",
       "4  822e43cb-47a4-4101-90bb-02e7e1c2f576    control    15       Apple   \n",
       "\n",
       "   platform_os  browser  response  \n",
       "0          101       15         1  \n",
       "1          101        5         1  \n",
       "2          162        6         1  \n",
       "3          162        6         1  \n",
       "4          101        7         1  "
      ]
     },
     "execution_count": 54,
     "metadata": {},
     "output_type": "execute_result"
    }
   ],
   "source": [
    "# removing yes and no columns and replace it with response column. For both groups if response=1, it means yes \n",
    "#and if it is 0, it means no\n",
    "##for control group\n",
    "df1 = newnew_control_df[newnew_control_df['yes'] == 1].drop(['yes','no'], axis = 1)\n",
    "df1['response'] = 1\n",
    "df2 = newnew_control_df[newnew_control_df['no'] == 1].drop(['yes','no'], axis = 1)\n",
    "df2['response'] = 0\n",
    "control_plot_df = df1.append(df2).reset_index(drop=True)\n",
    "control_plot_df.head(5)"
   ]
  },
  {
   "cell_type": "code",
   "execution_count": 55,
   "metadata": {},
   "outputs": [
    {
     "name": "stderr",
     "output_type": "stream",
     "text": [
      "C:\\Users\\gwang\\AppData\\Local\\Temp\\ipykernel_15472\\627024297.py:6: FutureWarning: The frame.append method is deprecated and will be removed from pandas in a future version. Use pandas.concat instead.\n",
      "  exposed_plot_df = df1.append(df2).reset_index(drop=True)\n"
     ]
    },
    {
     "data": {
      "text/html": [
       "<div>\n",
       "<style scoped>\n",
       "    .dataframe tbody tr th:only-of-type {\n",
       "        vertical-align: middle;\n",
       "    }\n",
       "\n",
       "    .dataframe tbody tr th {\n",
       "        vertical-align: top;\n",
       "    }\n",
       "\n",
       "    .dataframe thead th {\n",
       "        text-align: right;\n",
       "    }\n",
       "</style>\n",
       "<table border=\"1\" class=\"dataframe\">\n",
       "  <thead>\n",
       "    <tr style=\"text-align: right;\">\n",
       "      <th></th>\n",
       "      <th>auction_id</th>\n",
       "      <th>experiment</th>\n",
       "      <th>hour</th>\n",
       "      <th>device_make</th>\n",
       "      <th>platform_os</th>\n",
       "      <th>browser</th>\n",
       "      <th>response</th>\n",
       "    </tr>\n",
       "  </thead>\n",
       "  <tbody>\n",
       "    <tr>\n",
       "      <th>0</th>\n",
       "      <td>143da30d-ebde-467f-8d66-acc80a4ff898</td>\n",
       "      <td>exposed</td>\n",
       "      <td>19</td>\n",
       "      <td>Samsung</td>\n",
       "      <td>101</td>\n",
       "      <td>15</td>\n",
       "      <td>1</td>\n",
       "    </tr>\n",
       "    <tr>\n",
       "      <th>1</th>\n",
       "      <td>28304800-7650-4dae-84be-17e5b5c04868</td>\n",
       "      <td>exposed</td>\n",
       "      <td>4</td>\n",
       "      <td>Samsung</td>\n",
       "      <td>101</td>\n",
       "      <td>6</td>\n",
       "      <td>1</td>\n",
       "    </tr>\n",
       "    <tr>\n",
       "      <th>2</th>\n",
       "      <td>f6d8f3f7-75b6-45a2-a277-793f3b387398</td>\n",
       "      <td>exposed</td>\n",
       "      <td>8</td>\n",
       "      <td>Apple</td>\n",
       "      <td>101</td>\n",
       "      <td>7</td>\n",
       "      <td>1</td>\n",
       "    </tr>\n",
       "    <tr>\n",
       "      <th>3</th>\n",
       "      <td>dd0355b7-b1cd-4c87-bf70-2c2093dd61b2</td>\n",
       "      <td>exposed</td>\n",
       "      <td>0</td>\n",
       "      <td>Apple</td>\n",
       "      <td>163</td>\n",
       "      <td>7</td>\n",
       "      <td>1</td>\n",
       "    </tr>\n",
       "    <tr>\n",
       "      <th>4</th>\n",
       "      <td>9728e114-5e94-4fb9-a193-44766e2abc55</td>\n",
       "      <td>exposed</td>\n",
       "      <td>14</td>\n",
       "      <td>Samsung</td>\n",
       "      <td>162</td>\n",
       "      <td>6</td>\n",
       "      <td>1</td>\n",
       "    </tr>\n",
       "  </tbody>\n",
       "</table>\n",
       "</div>"
      ],
      "text/plain": [
       "                             auction_id experiment  hour device_make  \\\n",
       "0  143da30d-ebde-467f-8d66-acc80a4ff898    exposed    19     Samsung   \n",
       "1  28304800-7650-4dae-84be-17e5b5c04868    exposed     4     Samsung   \n",
       "2  f6d8f3f7-75b6-45a2-a277-793f3b387398    exposed     8       Apple   \n",
       "3  dd0355b7-b1cd-4c87-bf70-2c2093dd61b2    exposed     0       Apple   \n",
       "4  9728e114-5e94-4fb9-a193-44766e2abc55    exposed    14     Samsung   \n",
       "\n",
       "   platform_os  browser  response  \n",
       "0          101       15         1  \n",
       "1          101        6         1  \n",
       "2          101        7         1  \n",
       "3          163        7         1  \n",
       "4          162        6         1  "
      ]
     },
     "execution_count": 55,
     "metadata": {},
     "output_type": "execute_result"
    }
   ],
   "source": [
    "#do the same for exposed groups\n",
    "df1 = newnew_exposed_df[newnew_exposed_df['yes'] == 1].drop(['yes','no'], axis = 1)\n",
    "df1['response'] = 1\n",
    "df2 = newnew_exposed_df[newnew_exposed_df['no'] == 1].drop(['yes','no'], axis = 1)\n",
    "df2['response'] = 0\n",
    "exposed_plot_df = df1.append(df2).reset_index(drop=True)\n",
    "exposed_plot_df.head(5)"
   ]
  },
  {
   "cell_type": "code",
   "execution_count": 56,
   "metadata": {},
   "outputs": [
    {
     "data": {
      "text/html": [
       "<div>\n",
       "<style scoped>\n",
       "    .dataframe tbody tr th:only-of-type {\n",
       "        vertical-align: middle;\n",
       "    }\n",
       "\n",
       "    .dataframe tbody tr th {\n",
       "        vertical-align: top;\n",
       "    }\n",
       "\n",
       "    .dataframe thead th {\n",
       "        text-align: right;\n",
       "    }\n",
       "</style>\n",
       "<table border=\"1\" class=\"dataframe\">\n",
       "  <thead>\n",
       "    <tr style=\"text-align: right;\">\n",
       "      <th></th>\n",
       "      <th>response</th>\n",
       "      <th>count</th>\n",
       "    </tr>\n",
       "  </thead>\n",
       "  <tbody>\n",
       "    <tr>\n",
       "      <th>0</th>\n",
       "      <td>0</td>\n",
       "      <td>8258</td>\n",
       "    </tr>\n",
       "    <tr>\n",
       "      <th>1</th>\n",
       "      <td>1</td>\n",
       "      <td>10641</td>\n",
       "    </tr>\n",
       "  </tbody>\n",
       "</table>\n",
       "</div>"
      ],
      "text/plain": [
       "   response  count\n",
       "0         0   8258\n",
       "1         1  10641"
      ]
     },
     "execution_count": 56,
     "metadata": {},
     "output_type": "execute_result"
    }
   ],
   "source": [
    "# count yes and no for control\n",
    "control_yes = control_plot_df.groupby(['response']).agg({'response': ['count']})\n",
    "control_yes.columns = ['count']\n",
    "control_yes = control_yes.reset_index()\n",
    "control_yes"
   ]
  },
  {
   "cell_type": "code",
   "execution_count": 57,
   "metadata": {},
   "outputs": [
    {
     "data": {
      "text/html": [
       "<div>\n",
       "<style scoped>\n",
       "    .dataframe tbody tr th:only-of-type {\n",
       "        vertical-align: middle;\n",
       "    }\n",
       "\n",
       "    .dataframe tbody tr th {\n",
       "        vertical-align: top;\n",
       "    }\n",
       "\n",
       "    .dataframe thead th {\n",
       "        text-align: right;\n",
       "    }\n",
       "</style>\n",
       "<table border=\"1\" class=\"dataframe\">\n",
       "  <thead>\n",
       "    <tr style=\"text-align: right;\">\n",
       "      <th></th>\n",
       "      <th>response</th>\n",
       "      <th>count</th>\n",
       "    </tr>\n",
       "  </thead>\n",
       "  <tbody>\n",
       "    <tr>\n",
       "      <th>0</th>\n",
       "      <td>0</td>\n",
       "      <td>9539</td>\n",
       "    </tr>\n",
       "    <tr>\n",
       "      <th>1</th>\n",
       "      <td>1</td>\n",
       "      <td>82132</td>\n",
       "    </tr>\n",
       "  </tbody>\n",
       "</table>\n",
       "</div>"
      ],
      "text/plain": [
       "   response  count\n",
       "0         0   9539\n",
       "1         1  82132"
      ]
     },
     "execution_count": 57,
     "metadata": {},
     "output_type": "execute_result"
    }
   ],
   "source": [
    "#Do the same for exposed\n",
    "exposed_yes = exposed_plot_df.groupby(['response']).agg({'response': ['count']})\n",
    "exposed_yes.columns = ['count']\n",
    "exposed_yes = exposed_yes.reset_index()\n",
    "exposed_yes"
   ]
  },
  {
   "cell_type": "markdown",
   "metadata": {},
   "source": [
    "## The exposed group said 'yes' more times than that of the control group "
   ]
  },
  {
   "cell_type": "code",
   "execution_count": 58,
   "metadata": {},
   "outputs": [
    {
     "data": {
      "image/png": "[encoded data removed]",
      "text/plain": [
       "<Figure size 864x504 with 1 Axes>"
      ]
     },
     "metadata": {
      "needs_background": "light"
     },
     "output_type": "display_data"
    }
   ],
   "source": [
    "VisualiseDf.plot_count(control_plot_df, 'response')"
   ]
  },
  {
   "cell_type": "code",
   "execution_count": 59,
   "metadata": {},
   "outputs": [
    {
     "data": {
      "image/png": "[encoded data removed]",
      "text/plain": [
       "<Figure size 864x504 with 1 Axes>"
      ]
     },
     "metadata": {
      "needs_background": "light"
     },
     "output_type": "display_data"
    }
   ],
   "source": [
    "VisualiseDf.plot_count(exposed_plot_df, 'response')"
   ]
  },
  {
   "cell_type": "code",
   "execution_count": 60,
   "metadata": {},
   "outputs": [
    {
     "name": "stdout",
     "output_type": "stream",
     "text": [
      "New Control Data Saved ! \n",
      "New Exposed Data Saved ! \n"
     ]
    }
   ],
   "source": [
    "control_plot_df.to_csv('../data/control_df_two.csv', index=False)\n",
    "print(\"New Control Data Saved ! \")\n",
    "\n",
    "exposed_plot_df.to_csv('../data/exposed_df_two.csv', index=False)\n",
    "print(\"New Exposed Data Saved ! \")"
   ]
  },
  {
   "cell_type": "code",
   "execution_count": null,
   "metadata": {},
   "outputs": [],
   "source": []
  }
 ],
 "metadata": {
  "kernelspec": {
   "display_name": "Python 3 (ipykernel)",
   "language": "python",
   "name": "python3"
  },
  "language_info": {
   "codemirror_mode": {
    "name": "ipython",
    "version": 3
   },
   "file_extension": ".py",
   "mimetype": "text/x-python",
   "name": "python",
   "nbconvert_exporter": "python",
   "pygments_lexer": "ipython3",
   "version": "3.9.12"
  },
  "vscode": {
   "interpreter": {
    "hash": "e593ac106456af50ce7af38f9671c411b49d6cd90f9b885e167f0f594e09038c"
   }
  }
 },
 "nbformat": 4,
 "nbformat_minor": 4
}
